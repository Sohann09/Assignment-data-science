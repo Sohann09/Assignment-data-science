{
  "nbformat": 4,
  "nbformat_minor": 0,
  "metadata": {
    "colab": {
      "provenance": []
    },
    "kernelspec": {
      "name": "python3",
      "display_name": "Python 3"
    },
    "language_info": {
      "name": "python"
    }
  },
  "cells": [
    {
      "cell_type": "markdown",
      "source": [
        "Q1. Explain Class and Object with respect to Object-Oriented Programming. Give a suitable example.\n",
        "\n",
        "A class is a blueprint for creating objects providing initial values for state , and implementations of behavior.\n",
        "\n",
        "An object is an instance of a class, created at runtime. Each object has its own unique set of attributes and methods that operate on that data."
      ],
      "metadata": {
        "id": "q30ArLL8xtRo"
      }
    },
    {
      "cell_type": "code",
      "execution_count": 6,
      "metadata": {
        "colab": {
          "base_uri": "https://localhost:8080/"
        },
        "id": "Ibj_Edotxsaw",
        "outputId": "3d8d169f-fc33-4d5c-93a7-88c974670717"
      },
      "outputs": [
        {
          "output_type": "stream",
          "name": "stdout",
          "text": [
            "1150 english willow 13.6mm\n"
          ]
        }
      ],
      "source": [
        "class bat:\n",
        "  def __init__(self,weight,willow,blade_size):\n",
        "    self.weight=weight\n",
        "    self.willow=willow\n",
        "    self.blade_size=blade_size\n",
        "\n",
        "  def give_details(self):\n",
        "    print (self.weight,self.willow,self.blade_size)\n",
        "\n",
        "my_bat=bat(1150,'english willow','13.6mm')\n",
        "my_bat.give_details()"
      ]
    },
    {
      "cell_type": "markdown",
      "source": [
        "Q2. Name the four pillars of OOPs.\n",
        "\n",
        "Encapsulation,\n",
        "Inheritance,\n",
        "Polymorphism,\n",
        "Abstraction"
      ],
      "metadata": {
        "id": "sdD6y9lIzW_E"
      }
    },
    {
      "cell_type": "markdown",
      "source": [
        "Q3. Explain why the init() function is used. Give a suitable example.\n",
        "\n",
        "The init method is a special method in Python classes that acts as a constructor. It is automatically called when an object of the class is created. The init method is used to initialize the attributes of the class and set the default values."
      ],
      "metadata": {
        "id": "rohomcvKzkOJ"
      }
    },
    {
      "cell_type": "code",
      "source": [
        "class Car:\n",
        "  def __init__(self, name, model):\n",
        "    self.name = name\n",
        "    self.model = model\n",
        "\n",
        "my_car = Car(\"Toyota\", \"Camry\")\n",
        "print(my_car.name)\n",
        "print(my_car.model)"
      ],
      "metadata": {
        "colab": {
          "base_uri": "https://localhost:8080/"
        },
        "id": "2urcalYF0Fq7",
        "outputId": "38c9ecbe-6b57-469a-cf2f-5922498375bd"
      },
      "execution_count": 15,
      "outputs": [
        {
          "output_type": "stream",
          "name": "stdout",
          "text": [
            "Toyota\n",
            "Camry\n"
          ]
        }
      ]
    },
    {
      "cell_type": "markdown",
      "source": [
        "Q4. Why self is used in OOPs?\n",
        "\n",
        "Defining an instance method. It is passed automatically as the first parameter when you call a method on an instance, and it is the instance on which the method was called on."
      ],
      "metadata": {
        "id": "2J7wq1rl1P8t"
      }
    },
    {
      "cell_type": "markdown",
      "source": [
        "Q5. What is inheritance? Give an example for each type of inheritance.\n",
        "\n",
        "Inheritance is a method in oops that allows a new class to be derived from another class.The new class inherits all the properties from the earlier class.The class that inherits properties is called child class and the main class is called parent class.\n",
        "\n",
        "Types of Inheritance\n",
        "\n",
        "1)Single Inheritance\n",
        "\n",
        "Single inheritance enables a derived class to inherit properties from a single parent class.\n",
        "\n",
        "2)Multilevel Inheritance:\n",
        "\n",
        "When a class can be derived from more than one base class this type of inheritance is called multilevel inheritances. In multilevel inheritances, all the features of the base classes are inherited into the derived class."
      ],
      "metadata": {
        "id": "KxdopK1A2n7V"
      }
    },
    {
      "cell_type": "code",
      "source": [
        "#single inheritance\n",
        "class parent:\n",
        "  def test1(self):\n",
        "    print(\"this is parent class\")\n",
        "\n",
        "class child(parent):\n",
        "  def test2(self):\n",
        "    print(\"this is child class\")\n",
        "\n",
        "a=child()\n",
        "a.test1()\n",
        "a.test2()"
      ],
      "metadata": {
        "colab": {
          "base_uri": "https://localhost:8080/"
        },
        "id": "pqyadDbp0zPY",
        "outputId": "bf74c08c-90c2-491c-db4d-b33f9fe0bfee"
      },
      "execution_count": 16,
      "outputs": [
        {
          "output_type": "stream",
          "name": "stdout",
          "text": [
            "this is parent class\n",
            "this is child class\n"
          ]
        }
      ]
    },
    {
      "cell_type": "code",
      "source": [
        "#multilevel inheritence\n",
        "class parent1:\n",
        "  def test1(self):\n",
        "    print(\"this is parent 1 class\")\n",
        "\n",
        "class parent2:\n",
        "  def test2(self):\n",
        "    print(\"this is parent 2 class\")\n",
        "\n",
        "class child(parent1,parent2):\n",
        "  def test3(self):\n",
        "    print(\"this is child class\")\n",
        "\n",
        "var=child()\n",
        "var.test1()\n",
        "var.test2()\n",
        "var.test3()\n"
      ],
      "metadata": {
        "colab": {
          "base_uri": "https://localhost:8080/"
        },
        "id": "goKuO_Gm31uS",
        "outputId": "01d416e6-485e-4f27-c6e4-313638732245"
      },
      "execution_count": 17,
      "outputs": [
        {
          "output_type": "stream",
          "name": "stdout",
          "text": [
            "this is parent 1 class\n",
            "this is parent 2 class\n",
            "this is child class\n"
          ]
        }
      ]
    }
  ]
}