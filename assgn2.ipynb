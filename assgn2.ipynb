{
  "nbformat": 4,
  "nbformat_minor": 0,
  "metadata": {
    "colab": {
      "provenance": []
    },
    "kernelspec": {
      "name": "python3",
      "display_name": "Python 3"
    },
    "language_info": {
      "name": "python"
    }
  },
  "cells": [
    {
      "cell_type": "code",
      "execution_count": null,
      "metadata": {
        "id": "Abkm6FBB03vr"
      },
      "outputs": [],
      "source": [
        "##Q1. How do you comment code in Python? What are the different types of comments?\n",
        "\n",
        "#- The hash can be used for commenting in python, it basically ignores the messege for compiling purpose.\n",
        "'single line comment'\n",
        "\"\"\"used\n",
        "for\n",
        "multi\n",
        "line\n",
        "comment\"\"\""
      ]
    },
    {
      "cell_type": "code",
      "source": [
        "##Q2. What are variables in Python? How do you declare and assign values to variables?\n",
        "\n",
        "#ANS. python variables are used as containers for storing data values\n",
        "# for example if we consider x as our variable then a value can be assigned by '=' operator\n",
        "# there is no command for declaring a varible in python"
      ],
      "metadata": {
        "id": "gPNne_l11sMq"
      },
      "execution_count": null,
      "outputs": []
    },
    {
      "cell_type": "code",
      "source": [
        "#Q3. How do you convert one data type to another in Python?\n",
        "x=5\n",
        "print(type(x))\n",
        "b=float(x)\n",
        "print(type(b))\n",
        "c=str(x)\n",
        "print(type(c))"
      ],
      "metadata": {
        "colab": {
          "base_uri": "https://localhost:8080/"
        },
        "id": "bLHnDPs02gtm",
        "outputId": "88cdb001-49f9-4081-dcb9-0273c5facfe4"
      },
      "execution_count": 8,
      "outputs": [
        {
          "output_type": "stream",
          "name": "stdout",
          "text": [
            "<class 'int'>\n",
            "<class 'float'>\n",
            "<class 'str'>\n"
          ]
        }
      ]
    },
    {
      "cell_type": "code",
      "source": [
        "#Q5. Given a list my_list = [1, 2, 3, 4, 5], write the code to slice the list and obtain the sub-list [2, 3].\n",
        "my_list=[1,2,3,4,5]\n",
        "\n",
        "# index slicing\n",
        "\n",
        "a=my_list[1:3]\n",
        "print(a)"
      ],
      "metadata": {
        "colab": {
          "base_uri": "https://localhost:8080/"
        },
        "id": "Ynp15GqJ3twp",
        "outputId": "11f5a9d6-0b71-4264-a39b-98702c9bb991"
      },
      "execution_count": 9,
      "outputs": [
        {
          "output_type": "stream",
          "name": "stdout",
          "text": [
            "[2, 3]\n"
          ]
        }
      ]
    },
    {
      "cell_type": "code",
      "source": [
        "##Q6. What is a complex number in mathematics, and how is it represented in Python?\n",
        "# A complex number is the combination of a real number and imaginary number .ex: 8+7i,10+15j\n",
        "# in python complex numbers are represented by (real number)+ (imaginary number)j\n",
        "\n",
        "a=7+8j\n",
        "type(a)\n",
        "\n",
        "# if we use other than 'j' we see an error."
      ],
      "metadata": {
        "colab": {
          "base_uri": "https://localhost:8080/"
        },
        "id": "zUBap5ee40Hx",
        "outputId": "2b037fe5-df60-4572-e771-f0a39422005b"
      },
      "execution_count": 10,
      "outputs": [
        {
          "output_type": "execute_result",
          "data": {
            "text/plain": [
              "complex"
            ]
          },
          "metadata": {},
          "execution_count": 10
        }
      ]
    },
    {
      "cell_type": "code",
      "source": [
        "#Q7. What is the correct way to declare a variable named age and assign the value 25 to it?\n",
        "age=int(input())\n",
        "\n",
        "#we give required age input"
      ],
      "metadata": {
        "colab": {
          "base_uri": "https://localhost:8080/"
        },
        "id": "S2ZBUDko5huY",
        "outputId": "cd40fab8-c321-412c-9d27-b405344ae0c9"
      },
      "execution_count": 11,
      "outputs": [
        {
          "name": "stdout",
          "output_type": "stream",
          "text": [
            "25\n"
          ]
        }
      ]
    },
    {
      "cell_type": "code",
      "source": [
        "#Q8. Declare a variable named price and assign the value 9.99 to it. What data type does this variable belong to?\n",
        "\n",
        "price=9.99\n",
        "\n",
        "#price is float data type\n",
        "\n",
        "print(type(price))"
      ],
      "metadata": {
        "colab": {
          "base_uri": "https://localhost:8080/"
        },
        "id": "AD2pu_gR5ygY",
        "outputId": "ff06848b-9d26-4c27-b533-5fffb08261ea"
      },
      "execution_count": 12,
      "outputs": [
        {
          "output_type": "stream",
          "name": "stdout",
          "text": [
            "<class 'float'>\n"
          ]
        }
      ]
    },
    {
      "cell_type": "code",
      "source": [
        "#Q9. Create a variable named name and assign your full name to it as a string. How would you print the value of this variable?\n",
        "\n",
        "name='sohan'\n",
        "print(name)\n",
        "\n",
        "# printing the data type of name\n",
        "\n",
        "print(type(name))"
      ],
      "metadata": {
        "colab": {
          "base_uri": "https://localhost:8080/"
        },
        "id": "nHMkbE9h6DbU",
        "outputId": "b754e7d3-52aa-41f2-cc2e-67fee7eccad9"
      },
      "execution_count": 13,
      "outputs": [
        {
          "output_type": "stream",
          "name": "stdout",
          "text": [
            "sohan\n",
            "<class 'str'>\n"
          ]
        }
      ]
    },
    {
      "cell_type": "code",
      "source": [
        "#Q10. Given the string \"Hello, World!\", extract the substring \"World\".\n",
        "a='Hello, World'\n",
        "print(a[7:12])"
      ],
      "metadata": {
        "colab": {
          "base_uri": "https://localhost:8080/"
        },
        "id": "baju_L8D6m1G",
        "outputId": "afb1f1d8-4a22-4a54-cf88-6d2313eab779"
      },
      "execution_count": 21,
      "outputs": [
        {
          "output_type": "stream",
          "name": "stdout",
          "text": [
            "World\n"
          ]
        }
      ]
    },
    {
      "cell_type": "code",
      "source": [
        "#Q11. Create a variable named \"is_student\" and assign it a boolean value indicating whether you are currently a student or not.\n",
        "is_student=True\n",
        "print(is_student)"
      ],
      "metadata": {
        "colab": {
          "base_uri": "https://localhost:8080/"
        },
        "id": "ct9BDymy7kFr",
        "outputId": "f12229dd-62ec-467c-f395-2cf9860aebd5"
      },
      "execution_count": 23,
      "outputs": [
        {
          "output_type": "stream",
          "name": "stdout",
          "text": [
            "True\n"
          ]
        }
      ]
    }
  ]
}