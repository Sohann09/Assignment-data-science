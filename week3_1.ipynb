{
  "nbformat": 4,
  "nbformat_minor": 0,
  "metadata": {
    "colab": {
      "provenance": []
    },
    "kernelspec": {
      "name": "python3",
      "display_name": "Python 3"
    },
    "language_info": {
      "name": "python"
    }
  },
  "cells": [
    {
      "cell_type": "markdown",
      "source": [
        "Q1. Which keyword is used to create a function? Create a function to return a list of odd numbers in the\n",
        "range of 1 to 25.\n",
        "\n",
        "ANS. def keyword is used to create a function"
      ],
      "metadata": {
        "id": "wIuMP9CQ6uct"
      }
    },
    {
      "cell_type": "code",
      "source": [
        "def listOfOdd():\n",
        "    l1=[]\n",
        "    for i in range(1,25):\n",
        "        if i%2 != 0:\n",
        "            l1.append(i)\n",
        "    return l1\n",
        "listOfOdd()\n"
      ],
      "metadata": {
        "id": "fYr3D63i68ej",
        "colab": {
          "base_uri": "https://localhost:8080/"
        },
        "outputId": "39dc7b67-1606-4616-c0a9-f795a6d399f7"
      },
      "execution_count": 17,
      "outputs": [
        {
          "output_type": "execute_result",
          "data": {
            "text/plain": [
              "[1, 3, 5, 7, 9, 11, 13, 15, 17, 19, 21, 23]"
            ]
          },
          "metadata": {},
          "execution_count": 17
        }
      ]
    },
    {
      "cell_type": "markdown",
      "source": [
        "Q2. Why *args and **kwargs is used in some functions? Create a function each for *args and kwargs to demonstrate their use.\n",
        "\n",
        "Ans: We use *args and **kwargs as an argument when we are unsure about the number of arguments to pass in the functions."
      ],
      "metadata": {
        "id": "IakTrMhz-7Cq"
      }
    },
    {
      "cell_type": "code",
      "source": [
        "def test(*args):\n",
        "  for i in args:\n",
        "    print(i)\n",
        "\n",
        "test(\"sohan\",\"says\",\"hello\")\n"
      ],
      "metadata": {
        "colab": {
          "base_uri": "https://localhost:8080/"
        },
        "id": "H0H1Yz-R_Auu",
        "outputId": "215a9c55-3460-48b6-a438-4b9763626d0f"
      },
      "execution_count": 23,
      "outputs": [
        {
          "output_type": "stream",
          "name": "stdout",
          "text": [
            "sohan\n",
            "says\n",
            "hello\n"
          ]
        }
      ]
    },
    {
      "cell_type": "code",
      "source": [
        "def test2(**kwargs):\n",
        "    for key, val in kwargs.items():\n",
        "        print(key, val)\n",
        "\n",
        "test2(name=':sohan',branch=':elc')"
      ],
      "metadata": {
        "colab": {
          "base_uri": "https://localhost:8080/"
        },
        "id": "hoQsRRfjA7lx",
        "outputId": "fb1a0076-d0be-4690-ac6e-a0bfcd874cdc"
      },
      "execution_count": 27,
      "outputs": [
        {
          "output_type": "stream",
          "name": "stdout",
          "text": [
            "name :sohan\n",
            "branch :elc\n"
          ]
        }
      ]
    },
    {
      "cell_type": "markdown",
      "source": [
        "Q3. What is an iterator in python? Name the method used to initialise the iterator object and the method\n",
        "used for iteration. Use these methods to print the first five elements of the given list [2, 4, 6, 8, 10, 12, 14,\n",
        "16, 18, 20].\n",
        "\n",
        "ANS. iterators are methods that iterate collections such as tuples,list.strings etc. For loop in python is used to iterate in the list or tuple."
      ],
      "metadata": {
        "id": "rMWIveTrBy3N"
      }
    },
    {
      "cell_type": "code",
      "source": [
        "list1=[2,4,6,8,10,12,14,16,18,20]\n",
        "count=0\n",
        "ans=[]\n",
        "for i in list1:\n",
        "  if count<5:\n",
        "    count=count+1\n",
        "    ans.append(i)\n",
        "\n",
        "print(ans)\n",
        "\n",
        "\n",
        "\n"
      ],
      "metadata": {
        "colab": {
          "base_uri": "https://localhost:8080/"
        },
        "id": "p3l21GSkCKw4",
        "outputId": "5d86255b-0824-423d-8b09-13c32df1a01b"
      },
      "execution_count": 30,
      "outputs": [
        {
          "output_type": "stream",
          "name": "stdout",
          "text": [
            "[2, 4, 6, 8, 10]\n"
          ]
        }
      ]
    },
    {
      "cell_type": "markdown",
      "source": [
        "Q4. What is a generator function in python? Why yield keyword is used? Give an example of a generator\n",
        "function.\n",
        "\n",
        "ANS.A generator function in Python is a special type of function that returns a generator iterator, which can be used to iterate over a sequence of elements. A generator function is like a normal function, but instead of using the return statement to return a value, it uses the yield statement. Yield statement is used to print the value by resuming the iteration and then resuming.we use next() to print the following sequence of things."
      ],
      "metadata": {
        "id": "K9QoL7QUDBG2"
      }
    },
    {
      "cell_type": "code",
      "source": [
        "def test3(x):\n",
        "  for i in range(x):\n",
        "    yield i+2\n",
        "\n",
        "a=test3(5)\n",
        "print(next(a))\n",
        "print(next(a))\n",
        "print(next(a))\n",
        "print(next(a))"
      ],
      "metadata": {
        "colab": {
          "base_uri": "https://localhost:8080/"
        },
        "id": "utgIa30AD_pw",
        "outputId": "398d70a9-bad8-4641-dbc3-303471001ff0"
      },
      "execution_count": 37,
      "outputs": [
        {
          "output_type": "stream",
          "name": "stdout",
          "text": [
            "2\n",
            "3\n",
            "4\n",
            "5\n"
          ]
        }
      ]
    },
    {
      "cell_type": "markdown",
      "source": [
        "Q5. Create a generator function for prime numbers less than 1000. Use the next() method to print the\n",
        "first 20 prime numbers."
      ],
      "metadata": {
        "id": "F7J2HpEpE1fA"
      }
    },
    {
      "cell_type": "code",
      "source": [
        "def prime(y):\n",
        "  for num in range(1,y):\n",
        "    if num>1:\n",
        "      for i in range(2,num):\n",
        "        if (num%i)==0:\n",
        "          break\n",
        "      else:\n",
        "        yield num\n",
        "\n",
        "z=prime(1000)\n",
        "for i in range(20):\n",
        "  print(next(z))"
      ],
      "metadata": {
        "colab": {
          "base_uri": "https://localhost:8080/"
        },
        "id": "qFKkxSYqE2aQ",
        "outputId": "414ffa2e-d845-46c2-f9ba-6aaf1210cd7c"
      },
      "execution_count": 42,
      "outputs": [
        {
          "output_type": "stream",
          "name": "stdout",
          "text": [
            "2\n",
            "3\n",
            "5\n",
            "7\n",
            "11\n",
            "13\n",
            "17\n",
            "19\n",
            "23\n",
            "29\n",
            "31\n",
            "37\n",
            "41\n",
            "43\n",
            "47\n",
            "53\n",
            "59\n",
            "61\n",
            "67\n",
            "71\n"
          ]
        }
      ]
    },
    {
      "cell_type": "markdown",
      "source": [
        "Q6. Write a python program to print the first 10 Fibonacci numbers using a while loop."
      ],
      "metadata": {
        "id": "0DapiUqGIAIa"
      }
    },
    {
      "cell_type": "code",
      "source": [
        "def fibonacci(n):\n",
        "    a, b = 0, 1\n",
        "    count = 0\n",
        "    while count < n:\n",
        "        print(a)\n",
        "        a, b = b, a + b\n",
        "        count += 1\n",
        "\n",
        "fibonacci(10)"
      ],
      "metadata": {
        "colab": {
          "base_uri": "https://localhost:8080/"
        },
        "id": "oOwBv5boICPT",
        "outputId": "515db856-6683-49e7-81b1-19b592e912c9"
      },
      "execution_count": 45,
      "outputs": [
        {
          "output_type": "stream",
          "name": "stdout",
          "text": [
            "0\n",
            "1\n",
            "1\n",
            "2\n",
            "3\n",
            "5\n",
            "8\n",
            "13\n",
            "21\n",
            "34\n"
          ]
        }
      ]
    },
    {
      "cell_type": "markdown",
      "source": [
        "Q7. Write a List Comprehension to iterate through the given string: ‘pwskills’.\n",
        "Expected output: ['p', 'w', 's', 'k', 'i', 'l', 'l', 's']"
      ],
      "metadata": {
        "id": "qUKJ6PC0Io4i"
      }
    },
    {
      "cell_type": "code",
      "source": [
        "list2 = 'pwskills'\n",
        "a = [char for char in list2]\n",
        "print(a)\n"
      ],
      "metadata": {
        "colab": {
          "base_uri": "https://localhost:8080/"
        },
        "id": "gY4uw78QIoYe",
        "outputId": "83131b39-c853-4a66-99d9-51de0f8e7cf6"
      },
      "execution_count": 51,
      "outputs": [
        {
          "output_type": "stream",
          "name": "stdout",
          "text": [
            "['p', 'w', 's', 'k', 'i', 'l', 'l', 's']\n"
          ]
        }
      ]
    },
    {
      "cell_type": "markdown",
      "source": [
        "Q8. Write a python program to check whether a given number is Palindrome or not using a while loop."
      ],
      "metadata": {
        "id": "GQJKXHX_Lxml"
      }
    },
    {
      "cell_type": "code",
      "source": [
        "num=input()\n",
        "reverse=num[::-1]\n",
        "if (num==reverse):\n",
        "  print('palindrome')\n",
        "else:\n",
        "  print('not a palindrome')\n"
      ],
      "metadata": {
        "colab": {
          "base_uri": "https://localhost:8080/"
        },
        "id": "r7vDykL8L32A",
        "outputId": "901046bc-e2a0-4e3e-f0d3-697fb582e696"
      },
      "execution_count": 59,
      "outputs": [
        {
          "output_type": "stream",
          "name": "stdout",
          "text": [
            "121\n",
            "palindrome\n"
          ]
        }
      ]
    },
    {
      "cell_type": "markdown",
      "source": [
        "Q9. Write a code to print odd numbers from 1 to 100 using list comprehension."
      ],
      "metadata": {
        "id": "4F6tgc2gK3uX"
      }
    },
    {
      "cell_type": "code",
      "source": [
        "a=[num for num in range(1,101)]\n",
        "b=[odd for odd in a if odd%2==1]\n",
        "print(b)"
      ],
      "metadata": {
        "colab": {
          "base_uri": "https://localhost:8080/"
        },
        "id": "yk-w3lsvK3B3",
        "outputId": "3872bebc-a5b9-463d-f9bc-e86675e60ba3"
      },
      "execution_count": 58,
      "outputs": [
        {
          "output_type": "stream",
          "name": "stdout",
          "text": [
            "[1, 3, 5, 7, 9, 11, 13, 15, 17, 19, 21, 23, 25, 27, 29, 31, 33, 35, 37, 39, 41, 43, 45, 47, 49, 51, 53, 55, 57, 59, 61, 63, 65, 67, 69, 71, 73, 75, 77, 79, 81, 83, 85, 87, 89, 91, 93, 95, 97, 99]\n"
          ]
        }
      ]
    }
  ]
}