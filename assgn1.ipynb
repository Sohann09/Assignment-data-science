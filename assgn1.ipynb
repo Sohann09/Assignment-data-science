{
  "nbformat": 4,
  "nbformat_minor": 0,
  "metadata": {
    "colab": {
      "provenance": []
    },
    "kernelspec": {
      "name": "python3",
      "display_name": "Python 3"
    },
    "language_info": {
      "name": "python"
    }
  },
  "cells": [
    {
      "cell_type": "code",
      "execution_count": null,
      "metadata": {
        "colab": {
          "base_uri": "https://localhost:8080/"
        },
        "id": "4Mi9VTXk62Oo",
        "outputId": "30b9281d-fe63-4aa2-f65b-e8cb6ca6ab83"
      },
      "outputs": [
        {
          "output_type": "stream",
          "name": "stdout",
          "text": [
            "<class 'str'>\n",
            "<class 'list'>\n",
            "<class 'float'>\n",
            "<class 'tuple'>\n"
          ]
        }
      ],
      "source": [
        "#Q1\n",
        "#(i)\n",
        "a='Sohan'\n",
        "print(type(a))\n",
        "#ii\n",
        "b=[1,2,3,4,3+10j,True,10.5,'sohan']\n",
        "print(type(b))\n",
        "#iii\n",
        "c=10.05\n",
        "print(type(c))\n",
        "#iv\n",
        "d = (\"apple\", \"banana\", \"cherry\")\n",
        "print(type(d))"
      ]
    },
    {
      "cell_type": "code",
      "source": [
        "#Q2.1\n",
        "var1=''\n",
        "print(type(var1))\n",
        "\n",
        "#Q2.2\n",
        "var2='[ DS , ML , Python]'\n",
        "print(type(var2))\n",
        "\n",
        "#Q2.3\n",
        "var3 = [ 'DS' , 'ML' , 'Python' ]\n",
        "print(type(var2))\n",
        "\n",
        "#Q2.4\n",
        "var4=1\n",
        "print(type(var4))"
      ],
      "metadata": {
        "colab": {
          "base_uri": "https://localhost:8080/"
        },
        "id": "u5tAtQSH70QP",
        "outputId": "76c0b11c-27b6-43c6-db7d-b2321d9c8490"
      },
      "execution_count": null,
      "outputs": [
        {
          "output_type": "stream",
          "name": "stdout",
          "text": [
            "<class 'str'>\n",
            "<class 'str'>\n",
            "<class 'str'>\n",
            "<class 'int'>\n"
          ]
        }
      ]
    },
    {
      "cell_type": "code",
      "source": [
        "#Q3.1\n",
        "#(/) operator is used to divide\n",
        "a=20\n",
        "b=3\n",
        "print(a/b)\n",
        "\n",
        "#Q3.2 (%) is modulus operator which gives us the remainder when two numbers are divided\n",
        "print(a%b)\n",
        "\n",
        "#Q3.3 (//) is floor division which gives us the quotient when two numbers are divided\n",
        "print(a//b)\n",
        "\n",
        "#Q3.4 (**) is exponential operator and returns us the values of exponential\n",
        "print(a**b)"
      ],
      "metadata": {
        "colab": {
          "base_uri": "https://localhost:8080/"
        },
        "id": "wB1FHu099XsB",
        "outputId": "83c49117-3fb9-4c73-953f-d9d1841886d1"
      },
      "execution_count": null,
      "outputs": [
        {
          "output_type": "stream",
          "name": "stdout",
          "text": [
            "6.666666666666667\n",
            "2\n",
            "6\n",
            "8000\n"
          ]
        }
      ]
    },
    {
      "cell_type": "code",
      "source": [
        "#Q4. Create a list of length 10 of your choice containing multiple types of data. Using for loop print theelement and its data type.\n",
        "\n",
        "a=[1,2,3,'sohan',3.5,True,2+5j,'rohan',False,0]\n",
        "for i in a:\n",
        "  print(i)\n",
        "  print(type(i))\n",
        "  i+=i\n"
      ],
      "metadata": {
        "colab": {
          "base_uri": "https://localhost:8080/"
        },
        "id": "MKTCVe-N-Bxm",
        "outputId": "43d8a280-fcc5-4ed8-d051-bc7441cef580"
      },
      "execution_count": null,
      "outputs": [
        {
          "output_type": "stream",
          "name": "stdout",
          "text": [
            "1\n",
            "<class 'int'>\n",
            "2\n",
            "<class 'int'>\n",
            "3\n",
            "<class 'int'>\n",
            "sohan\n",
            "<class 'str'>\n",
            "3.5\n",
            "<class 'float'>\n",
            "True\n",
            "<class 'bool'>\n",
            "(2+5j)\n",
            "<class 'complex'>\n",
            "rohan\n",
            "<class 'str'>\n",
            "False\n",
            "<class 'bool'>\n",
            "0\n",
            "<class 'int'>\n"
          ]
        }
      ]
    },
    {
      "cell_type": "code",
      "source": [
        "#Q5. Using a while loop, verify if the number A is purely divisible by number B and if so then how many\n",
        "#times it can be divisible.\n",
        "A=15\n",
        "B=3\n",
        "while A>=B:\n",
        "  if (A%B==0):\n",
        "    print('A is purely divisible by B');\n",
        "  break\n",
        "c=A//B\n",
        "print(c)\n",
        "\n",
        "\n"
      ],
      "metadata": {
        "colab": {
          "base_uri": "https://localhost:8080/"
        },
        "id": "hFDU8hdQBRPz",
        "outputId": "5dbdc01c-c338-424a-db1f-97b029624154"
      },
      "execution_count": null,
      "outputs": [
        {
          "output_type": "stream",
          "name": "stdout",
          "text": [
            "A is purely divisible by B\n",
            "5\n"
          ]
        }
      ]
    },
    {
      "cell_type": "code",
      "source": [
        "#Q6. Create a list containing 25 int type data. Using for loop and if-else condition print if the element isdivisible by 3 or not.\n",
        "a=[1,2,3,4,5,6,7,8,9,10,11,12,13,14,15,16,17,18,19,20,21,22,23,24,25]\n",
        "\n",
        "for i in a:\n",
        "  if ((i%3)==0):\n",
        "    i=i+1\n",
        "    print(\"element is divisible by 3\")\n",
        "  else:\n",
        "    print(\"element has a non zero remainder \")\n"
      ],
      "metadata": {
        "colab": {
          "base_uri": "https://localhost:8080/"
        },
        "id": "A1bdPBBVDaAd",
        "outputId": "5116ffe8-c964-4aba-f223-7ae932f03fc9"
      },
      "execution_count": null,
      "outputs": [
        {
          "output_type": "stream",
          "name": "stdout",
          "text": [
            "element has a non zero remainder \n",
            "element has a non zero remainder \n",
            "element is divisible by 3\n",
            "element has a non zero remainder \n",
            "element has a non zero remainder \n",
            "element is divisible by 3\n",
            "element has a non zero remainder \n",
            "element has a non zero remainder \n",
            "element is divisible by 3\n",
            "element has a non zero remainder \n",
            "element has a non zero remainder \n",
            "element is divisible by 3\n",
            "element has a non zero remainder \n",
            "element has a non zero remainder \n",
            "element is divisible by 3\n",
            "element has a non zero remainder \n",
            "element has a non zero remainder \n",
            "element is divisible by 3\n",
            "element has a non zero remainder \n",
            "element has a non zero remainder \n",
            "element is divisible by 3\n",
            "element has a non zero remainder \n",
            "element has a non zero remainder \n",
            "element is divisible by 3\n",
            "element has a non zero remainder \n"
          ]
        }
      ]
    },
    {
      "cell_type": "code",
      "source": [
        "#Q7. What do you understand about mutable and immutable data types? Give examples for both showingthis property.\n",
        "\n",
        "##Mutable data types: in these type of data types we can change their values according to our wish . ex lists\n",
        "\n",
        "lists=[1,2,3,4,5]\n",
        "lists.append(6)\n",
        "print(lists)\n",
        "#as we can see we have added 6 in the list\n",
        "\n",
        "##Immutable data types: in these type of data types we cant change their values according to our wish and an error is produced if we try. ex:tuples,strings\n",
        "tuples=(1,2,3)\n",
        "tuples[1]=5\n",
        "print(tuples)\n",
        "#an error is generated"
      ],
      "metadata": {
        "colab": {
          "base_uri": "https://localhost:8080/",
          "height": 252
        },
        "id": "CaHbou9HE5fb",
        "outputId": "ca60f155-11e5-472c-ff59-11c8bd05f629"
      },
      "execution_count": null,
      "outputs": [
        {
          "output_type": "stream",
          "name": "stdout",
          "text": [
            "[1, 2, 3, 4, 5, 6]\n"
          ]
        },
        {
          "output_type": "error",
          "ename": "TypeError",
          "evalue": "ignored",
          "traceback": [
            "\u001b[0;31m---------------------------------------------------------------------------\u001b[0m",
            "\u001b[0;31mTypeError\u001b[0m                                 Traceback (most recent call last)",
            "\u001b[0;32m<ipython-input-39-f17f2c48bbed>\u001b[0m in \u001b[0;36m<cell line: 12>\u001b[0;34m()\u001b[0m\n\u001b[1;32m     10\u001b[0m \u001b[0;31m##Immutable data types: in these type of data types we cant change their values according to our wish and an error is produced if we try. ex:tuples\u001b[0m\u001b[0;34m\u001b[0m\u001b[0;34m\u001b[0m\u001b[0m\n\u001b[1;32m     11\u001b[0m \u001b[0mtuples\u001b[0m\u001b[0;34m=\u001b[0m\u001b[0;34m(\u001b[0m\u001b[0;36m1\u001b[0m\u001b[0;34m,\u001b[0m\u001b[0;36m2\u001b[0m\u001b[0;34m,\u001b[0m\u001b[0;36m3\u001b[0m\u001b[0;34m)\u001b[0m\u001b[0;34m\u001b[0m\u001b[0;34m\u001b[0m\u001b[0m\n\u001b[0;32m---> 12\u001b[0;31m \u001b[0mtuples\u001b[0m\u001b[0;34m[\u001b[0m\u001b[0;36m1\u001b[0m\u001b[0;34m]\u001b[0m\u001b[0;34m=\u001b[0m\u001b[0;36m5\u001b[0m\u001b[0;34m\u001b[0m\u001b[0;34m\u001b[0m\u001b[0m\n\u001b[0m\u001b[1;32m     13\u001b[0m \u001b[0mprint\u001b[0m\u001b[0;34m(\u001b[0m\u001b[0mtuples\u001b[0m\u001b[0;34m)\u001b[0m\u001b[0;34m\u001b[0m\u001b[0;34m\u001b[0m\u001b[0m\n",
            "\u001b[0;31mTypeError\u001b[0m: 'tuple' object does not support item assignment"
          ]
        }
      ]
    }
  ]
}