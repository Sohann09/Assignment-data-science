{
  "cells": [
    {
      "cell_type": "markdown",
      "id": "28db60b2-d66c-425c-924a-ba4445709b89",
      "metadata": {
        "id": "28db60b2-d66c-425c-924a-ba4445709b89"
      },
      "source": [
        "1. What is Abstraction in OOps?\n"
      ]
    },
    {
      "cell_type": "markdown",
      "id": "8d2e2dba-7af7-43c5-8c85-13cd65336ea8",
      "metadata": {
        "id": "8d2e2dba-7af7-43c5-8c85-13cd65336ea8"
      },
      "source": [
        "Abstraction in python is defined as a process of handling complexity by hiding unnecessary information from the user. This is one of the core concepts of object-oriented programming (OOP) languages. That enables the user to implement even more complex logic on top of the provided abstraction without understanding or even thinking about all the hidden background/back-end complexity.\n",
        "\n",
        "Example"
      ]
    },
    {
      "cell_type": "code",
      "execution_count": 5,
      "id": "4fa288b3-8261-412f-b6bd-22804db42a2a",
      "metadata": {
        "colab": {
          "base_uri": "https://localhost:8080/"
        },
        "id": "4fa288b3-8261-412f-b6bd-22804db42a2a",
        "outputId": "052e37eb-2b4f-42a4-b607-00b5d75bd13b"
      },
      "outputs": [
        {
          "output_type": "stream",
          "name": "stdout",
          "text": [
            "Sohan\n",
            "HYderabad 90000000\n",
            "biryani cricket\n"
          ]
        }
      ],
      "source": [
        "class Person:\n",
        "    def __init__(self):\n",
        "        self.name = \"Sohan\"\n",
        "\n",
        "    def bio(self):\n",
        "        self.addr = \"HYderabad\"\n",
        "        self.contact = \"90000000\"\n",
        "        print(self.addr, self.contact)\n",
        "\n",
        "    def interest(self):\n",
        "        self.hobbies = \"cricket\"\n",
        "        self.food=\"biryani\"\n",
        "        print(self.food, self.hobbies)\n",
        "\n",
        "obj = Person()\n",
        "print(obj.name)\n",
        "obj.bio()\n",
        "obj.interest()\n",
        ""
      ]
    },
    {
      "cell_type": "markdown",
      "id": "d214eab3-d09d-492e-8299-93fabb295b5e",
      "metadata": {
        "id": "d214eab3-d09d-492e-8299-93fabb295b5e"
      },
      "source": [
        "2. Differentiate between Abstraction and Encapsulation. Explain with an example.\n"
      ]
    },
    {
      "cell_type": "markdown",
      "id": "091486d9-6154-45bf-8155-62c15090fa46",
      "metadata": {
        "id": "091486d9-6154-45bf-8155-62c15090fa46"
      },
      "source": [
        "Encapsulation means storing the code of each functionality in one place. While abstraction is responsible for presenting only non-sensitive information to the user by hiding the sensitive information."
      ]
    },
    {
      "cell_type": "markdown",
      "id": "9c0b3abf-813a-40d8-9a56-baf8ec54e338",
      "metadata": {
        "id": "9c0b3abf-813a-40d8-9a56-baf8ec54e338"
      },
      "source": [
        "3. What is abc module in python? Why is it used?"
      ]
    },
    {
      "cell_type": "markdown",
      "id": "e920c7a4-3dc9-456b-8656-95a7ac436468",
      "metadata": {
        "id": "e920c7a4-3dc9-456b-8656-95a7ac436468"
      },
      "source": [
        "The abc module in Python is the Abstract Base Class module. It is used to define abstract base classes, which provide a way to define interfaces in Python. An abstract base class is a class that cannot be instantiated, but can be subclassed. The purpose of an abstract base class is to specify the interface that its subclasses must implement, without specifying how that implementation should be done.\n",
        "\n",
        "The abc module provides a way to create abstract base classes in Python by using the ABC class, as well as several decorators and methods to define abstract methods and properties."
      ]
    },
    {
      "cell_type": "markdown",
      "id": "b4f8320b-b650-490f-b963-e7335778ed39",
      "metadata": {
        "id": "b4f8320b-b650-490f-b963-e7335778ed39"
      },
      "source": [
        "4. How can we achieve data abstraction?"
      ]
    },
    {
      "cell_type": "markdown",
      "id": "147f2ec2-e987-4ea7-b593-1c77652727d3",
      "metadata": {
        "id": "147f2ec2-e987-4ea7-b593-1c77652727d3"
      },
      "source": [
        "Data abstraction is a programming concept that allows you to define the interface of an object without revealing the underlying implementation details. In other words, it provides a way to separate the implementation details of an object from the way it is used by other objects.\n",
        "\n",
        "There are several ways to achieve data abstraction in programming:\n",
        "\n",
        "Abstraction through classes: One of the most common ways to achieve data abstraction is through the use of classes. In object-oriented programming, classes provide a way to define objects with certain properties and methods, but hide the underlying implementation details from the rest of the code. For example, you can define a class with public methods that expose its behavior, but keep the implementation details private.\n",
        "\n",
        "Interfaces: An interface is a collection of abstract methods that must be implemented by any class that implements the interface. Interfaces are used to define a common set of behaviors that can be implemented by different classes, without specifying the implementation details. For example, in Java, you can define an interface that specifies the methods that must be implemented by a class that implements the interface.\n",
        "\n",
        "Modules: In some programming languages, like Python, you can use modules to define a set of related functions and variables, and hide the implementation details behind a well-defined interface. Modules provide a way to encapsulate the implementation details of a set of functions, and expose them to the rest of the code through a simple API.\n",
        "\n",
        "Information hiding: Information hiding is a programming concept that involves hiding the implementation details of an object or function behind a well-defined interface. Information hiding is used to protect the internal state of an object from being modified by external code, and to provide a clear and well-defined way for other objects to interact with the object."
      ]
    },
    {
      "cell_type": "markdown",
      "id": "157a62e9-4b66-4eef-9961-ddd5c84cdd95",
      "metadata": {
        "id": "157a62e9-4b66-4eef-9961-ddd5c84cdd95"
      },
      "source": [
        "5. Can we create an instance of an abstract class? Explain your answer."
      ]
    },
    {
      "cell_type": "markdown",
      "id": "6f19a55f-7343-4c78-810a-8e17b03371e6",
      "metadata": {
        "id": "6f19a55f-7343-4c78-810a-8e17b03371e6"
      },
      "source": [
        "No, you cannot create an instance of an abstract class. An abstract class is a class that cannot be instantiated on its own, but is intended to be subclassed and have its abstract methods implemented by the subclasses. The purpose of an abstract class is to provide a common interface for a set of related classes, but not to be used as a standalone object."
      ]
    },
    {
      "cell_type": "code",
      "execution_count": null,
      "id": "0c3abc07-7053-4981-8c4c-85c73e53d8ea",
      "metadata": {
        "id": "0c3abc07-7053-4981-8c4c-85c73e53d8ea"
      },
      "outputs": [],
      "source": []
    }
  ],
  "metadata": {
    "kernelspec": {
      "display_name": "Python 3 (ipykernel)",
      "language": "python",
      "name": "python3"
    },
    "language_info": {
      "codemirror_mode": {
        "name": "ipython",
        "version": 3
      },
      "file_extension": ".py",
      "mimetype": "text/x-python",
      "name": "python",
      "nbconvert_exporter": "python",
      "pygments_lexer": "ipython3",
      "version": "3.10.8"
    },
    "colab": {
      "provenance": []
    }
  },
  "nbformat": 4,
  "nbformat_minor": 5
}