{
  "nbformat": 4,
  "nbformat_minor": 0,
  "metadata": {
    "colab": {
      "provenance": []
    },
    "kernelspec": {
      "name": "python3",
      "display_name": "Python 3"
    },
    "language_info": {
      "name": "python"
    }
  },
  "cells": [
    {
      "cell_type": "markdown",
      "source": [
        "Q1.What is an Exception in python?Write the difference between Exceptions and syntax errors.\n",
        "\n",
        "Exception is a super class which consists of various common python errors made while coding. It consists errors such as zero division error , index error etc. Python is a sequentional coding language so if a error is encountered in the first line of code the compiler throws error and the next codes does not function but by using try and except method we can let the code function even if the before code line has an error.\n",
        "\n",
        "\n",
        "The key difference between exceptions and syntax errors is that exceptions occur during the execution of a program, while syntax errors occur before the program is executed."
      ],
      "metadata": {
        "id": "cXiKHM4SxPbt"
      }
    },
    {
      "cell_type": "markdown",
      "source": [
        "Q2. What happens when an exception is not handled? Explain with an example\n",
        "\n",
        "When an exception is not handled, the program terminates abruptly and generates a traceback, which is a detailed report of the error that occurred. The traceback provides information about the line of code where the error occurred, the type of error, and a description of the error"
      ],
      "metadata": {
        "id": "cMwplJPH0g1Y"
      }
    },
    {
      "cell_type": "code",
      "source": [
        "try:\n",
        "  a=int(\"sohan\")\n",
        "  print(a)\n",
        "except Exception as s:\n",
        "  print(s)\n",
        "\n",
        "c=10\n",
        "b=5\n",
        "print(c+b)"
      ],
      "metadata": {
        "colab": {
          "base_uri": "https://localhost:8080/"
        },
        "id": "0I2OyIhDpzZZ",
        "outputId": "ecadc199-4d04-422f-de2d-c23080773859"
      },
      "execution_count": 16,
      "outputs": [
        {
          "output_type": "stream",
          "name": "stdout",
          "text": [
            "invalid literal for int() with base 10: 'sohan'\n",
            "15\n"
          ]
        }
      ]
    },
    {
      "cell_type": "markdown",
      "source": [
        "Q3. Which Python statements are used to catch and handle exceptions? Explain with an example\n",
        "\n",
        "Catch can be done by try statments where we execute the program and handingly can be done by Exception super class where if there is an error in try block the code is handled by the exception.\n",
        "\n",
        "For example:"
      ],
      "metadata": {
        "id": "txMzZVmL0zr6"
      }
    },
    {
      "cell_type": "code",
      "source": [
        "try:\n",
        "  a=[1,2,3,4]\n",
        "  print(a[6])\n",
        "except IndexError as f:\n",
        "  print(\"the error we are facing here is {}\".format(f))\n"
      ],
      "metadata": {
        "colab": {
          "base_uri": "https://localhost:8080/"
        },
        "id": "ps8M-tDe0wEX",
        "outputId": "6da3d458-cc12-45a3-b989-be46a896affb"
      },
      "execution_count": 7,
      "outputs": [
        {
          "output_type": "stream",
          "name": "stdout",
          "text": [
            "the error we are facing here is list index out of range\n"
          ]
        }
      ]
    },
    {
      "cell_type": "markdown",
      "source": [
        "Q4. Explain with an example:\n",
        "\n",
        "try and else\n",
        "\n",
        "\n",
        "finally\n",
        "\n",
        "raise"
      ],
      "metadata": {
        "id": "-sPZteTN1tRg"
      }
    },
    {
      "cell_type": "code",
      "source": [
        "try:\n",
        "  a=[1,2,3,4]\n",
        "  print(a[3])\n",
        "except IndexError as f:\n",
        "  print(\"the error we are facing here is {}\".format(f))\n",
        "else:\n",
        "  print('hello')"
      ],
      "metadata": {
        "colab": {
          "base_uri": "https://localhost:8080/"
        },
        "id": "UHrqBMMG1y5B",
        "outputId": "06d58706-edf2-4516-8f17-c180ed1e4be6"
      },
      "execution_count": 8,
      "outputs": [
        {
          "output_type": "stream",
          "name": "stdout",
          "text": [
            "4\n",
            "hello\n"
          ]
        }
      ]
    },
    {
      "cell_type": "code",
      "source": [
        "try:\n",
        "  a=[1,2,3,4]\n",
        "  print(a[6])\n",
        "except IndexError as f:\n",
        "  print(\"the error we are facing here is {}\".format(f))\n",
        "\n",
        "finally:\n",
        "  print(\"this is my finally function\")"
      ],
      "metadata": {
        "colab": {
          "base_uri": "https://localhost:8080/"
        },
        "id": "QLMue7Ta1_tb",
        "outputId": "399af88e-0769-45ed-c752-520d76cdeb1b"
      },
      "execution_count": 6,
      "outputs": [
        {
          "output_type": "stream",
          "name": "stdout",
          "text": [
            "the error we are facing here is list index out of range\n",
            "this is my finally function\n"
          ]
        }
      ]
    },
    {
      "cell_type": "code",
      "source": [
        "a=[1,2,3,4]\n",
        "print(a[6])\n",
        "raise IndexError"
      ],
      "metadata": {
        "colab": {
          "base_uri": "https://localhost:8080/",
          "height": 200
        },
        "id": "Lf8OYt6m2GK_",
        "outputId": "a9dd56cb-1a5c-4156-ac98-263c2a0e3e33"
      },
      "execution_count": 11,
      "outputs": [
        {
          "output_type": "error",
          "ename": "TypeError",
          "evalue": "ignored",
          "traceback": [
            "\u001b[0;31m---------------------------------------------------------------------------\u001b[0m",
            "\u001b[0;31mTypeError\u001b[0m                                 Traceback (most recent call last)",
            "\u001b[0;32m<ipython-input-11-bc91768a6271>\u001b[0m in \u001b[0;36m<cell line: 3>\u001b[0;34m()\u001b[0m\n\u001b[1;32m      2\u001b[0m \u001b[0;34m\u001b[0m\u001b[0m\n\u001b[1;32m      3\u001b[0m \u001b[0;32mif\u001b[0m \u001b[0;32mnot\u001b[0m \u001b[0mtype\u001b[0m\u001b[0;34m(\u001b[0m\u001b[0mx\u001b[0m\u001b[0;34m)\u001b[0m \u001b[0;32mis\u001b[0m \u001b[0mint\u001b[0m\u001b[0;34m:\u001b[0m\u001b[0;34m\u001b[0m\u001b[0;34m\u001b[0m\u001b[0m\n\u001b[0;32m----> 4\u001b[0;31m   \u001b[0;32mraise\u001b[0m \u001b[0mTypeError\u001b[0m\u001b[0;34m(\u001b[0m\u001b[0;34m\"Only integers are allowed\"\u001b[0m\u001b[0;34m)\u001b[0m\u001b[0;34m\u001b[0m\u001b[0;34m\u001b[0m\u001b[0m\n\u001b[0m",
            "\u001b[0;31mTypeError\u001b[0m: Only integers are allowed"
          ]
        }
      ]
    },
    {
      "cell_type": "markdown",
      "source": [
        "Q5. What are Custom Exceptions in python? What do we need Custom Exceptions ? Explain in with an example\n",
        "\n",
        "Custom exceptions are user-defined exceptions in Python. They allow you to define specific types of exceptions for your application, so you can handle errors and exceptions in a more organized and meaningful way."
      ],
      "metadata": {
        "id": "1spIeNZ73G3E"
      }
    },
    {
      "cell_type": "code",
      "source": [
        "class custom_exception(Exception):\n",
        "  def divide(x,y):\n",
        "    if y==0:\n",
        "      raise custom_exception(\"A zero div error is occuring\")\n",
        "    return x/y\n",
        "\n",
        "  try:\n",
        "    print(divide(20,4))\n",
        "    print(divide(20,0))\n",
        "  except custom_exception as s:\n",
        "    print(s)"
      ],
      "metadata": {
        "colab": {
          "base_uri": "https://localhost:8080/"
        },
        "id": "f0LQbvCO3cRa",
        "outputId": "7874f439-c8fd-478f-a261-967b8c4fba39"
      },
      "execution_count": 15,
      "outputs": [
        {
          "output_type": "stream",
          "name": "stdout",
          "text": [
            "5.0\n",
            "A zero div error is occuring\n"
          ]
        }
      ]
    },
    {
      "cell_type": "markdown",
      "source": [
        "Q6. Create a custom exception class. Use this class to handle an exception."
      ],
      "metadata": {
        "id": "YoTx0hV_4WpV"
      }
    },
    {
      "cell_type": "code",
      "source": [
        "class custom_exception(Exception):\n",
        "  def divide(x,y):\n",
        "    if y==0:\n",
        "      raise custom_exception(\"A zero div error is occuring\")\n",
        "    return x/y\n",
        "\n",
        "  try:\n",
        "    print(divide(20,4))\n",
        "    print(divide(20,0))\n",
        "  except custom_exception as s:\n",
        "    print(s)"
      ],
      "metadata": {
        "id": "AXuD2CfM3odn"
      },
      "execution_count": null,
      "outputs": []
    }
  ]
}