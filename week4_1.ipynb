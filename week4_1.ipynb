{
  "nbformat": 4,
  "nbformat_minor": 0,
  "metadata": {
    "colab": {
      "provenance": []
    },
    "kernelspec": {
      "name": "python3",
      "display_name": "Python 3"
    },
    "language_info": {
      "name": "python"
    }
  },
  "cells": [
    {
      "cell_type": "markdown",
      "source": [
        "Q1, Create a vehicle class with an init method having instance variables as name_of_vehicle, max_speed and average_of_vehicle."
      ],
      "metadata": {
        "id": "UyFmNKi7cB2D"
      }
    },
    {
      "cell_type": "code",
      "execution_count": 1,
      "metadata": {
        "colab": {
          "base_uri": "https://localhost:8080/",
          "height": 36
        },
        "id": "-sTO3wiXbWn5",
        "outputId": "3a0b69f6-e577-424f-8d87-91911d751bc8"
      },
      "outputs": [
        {
          "output_type": "execute_result",
          "data": {
            "text/plain": [
              "'mahindra thar'"
            ],
            "application/vnd.google.colaboratory.intrinsic+json": {
              "type": "string"
            }
          },
          "metadata": {},
          "execution_count": 1
        }
      ],
      "source": [
        "class vehicle:\n",
        "    def __init__(self,name_of_vehcile,max_speed,avg_of_vehcile):\n",
        "        self.name_of_vehcile=name_of_vehcile\n",
        "        self.max_speed=max_speed\n",
        "        self.avg_of_vehcile=avg_of_vehcile\n",
        "\n",
        "first_car=vehicle(\"mahindra thar\",140,14)\n",
        "first_car.name_of_vehcile"
      ]
    },
    {
      "cell_type": "markdown",
      "source": [
        "Q2. Create a child class car from the vehicle class created in Que 1, which will inherit the vehicle class.\n",
        "Create a method named seating_capacity which takes capacity as an argument and returns the name of\n",
        "the vehicle and its seating capacity."
      ],
      "metadata": {
        "id": "2NuU_a2gb5Ol"
      }
    },
    {
      "cell_type": "code",
      "source": [
        "class seating_capacity(vehicle):\n",
        "    def cap(self,seating):\n",
        "        self.seating=seating\n",
        "        return f\"The {self.name_of_vehcile} has a seating capacity of {seating}.\"\n",
        "\n",
        "first_car=seating_capacity('thar',150,14)\n",
        "print(first_car.cap(5))"
      ],
      "metadata": {
        "colab": {
          "base_uri": "https://localhost:8080/"
        },
        "id": "p1WHJfjHboPn",
        "outputId": "4d02005d-7df7-46d5-dde9-35c21bc381e2"
      },
      "execution_count": 2,
      "outputs": [
        {
          "output_type": "stream",
          "name": "stdout",
          "text": [
            "The thar has a seating capacity of 5.\n"
          ]
        }
      ]
    },
    {
      "cell_type": "markdown",
      "source": [
        "Q3. What is multiple inheritance? Write a python code to demonstrate multiple inheritance.\n",
        "\n",
        "A class can be derived from more than one superclass in Python. This is called multiple inheritance."
      ],
      "metadata": {
        "id": "GJznrACicNqR"
      }
    },
    {
      "cell_type": "code",
      "source": [
        "class college:\n",
        "    def name_of_college(self):\n",
        "        return \"amrita university\"\n",
        "class year:\n",
        "    def year_of_studying(self):\n",
        "        return \"second year\"\n",
        "\n",
        "class which_course(college,year):\n",
        "    def course(self):\n",
        "        return \"ELC\"\n",
        "\n",
        "sohan=which_course()\n",
        "print(sohan.name_of_college())\n",
        "print(sohan.year_of_studying())\n",
        "print(sohan.course())"
      ],
      "metadata": {
        "colab": {
          "base_uri": "https://localhost:8080/"
        },
        "id": "MOgtVeaScRRs",
        "outputId": "8bcde393-67d9-45fa-b104-fd06c2283f43"
      },
      "execution_count": 3,
      "outputs": [
        {
          "output_type": "stream",
          "name": "stdout",
          "text": [
            "amrita university\n",
            "second year\n",
            "ELC\n"
          ]
        }
      ]
    },
    {
      "cell_type": "markdown",
      "source": [
        "Q.4 What are getter and setter in python? Create a class and create a getter and a setter method in this class\n",
        "\n",
        " Getters and setters are methods in object-oriented programming that allow you to control access to the attributes of an object. A getter method is used to retrieve the value of an attribute, while a setter method is used to set the value of an attribute."
      ],
      "metadata": {
        "id": "LKcpSLSmcuzL"
      }
    },
    {
      "cell_type": "code",
      "source": [
        "class Person:\n",
        "    def __init__(self, name, age):\n",
        "        self._name = name\n",
        "        self._age = age\n",
        "\n",
        "    @property\n",
        "    def name(self):\n",
        "        return self._name\n",
        "\n",
        "    @name.setter\n",
        "    def name(self, value):\n",
        "        if not isinstance(value, str):\n",
        "            raise TypeError(\"Name must be a string.\")\n",
        "        self._name = value\n",
        "\n",
        "    @property\n",
        "    def age(self):\n",
        "        return self._age\n",
        "\n",
        "    @age.setter\n",
        "    def age(self, value):\n",
        "        if not isinstance(value, int):\n",
        "            raise TypeError(\"Age must be an integer.\")\n",
        "        self._age = value\n",
        "\n",
        "person = Person(\"sohan\", 20)\n",
        "print(person.name)\n",
        "person.name = \"sohan\"\n",
        "print(person.name)\n",
        "print(person.age)\n",
        "person.age = 20\n",
        "print(person.age)"
      ],
      "metadata": {
        "colab": {
          "base_uri": "https://localhost:8080/"
        },
        "id": "A_Ad5dn1cmOn",
        "outputId": "562c85c4-4c13-4627-fae2-c70dc8f542b8"
      },
      "execution_count": 4,
      "outputs": [
        {
          "output_type": "stream",
          "name": "stdout",
          "text": [
            "sohan\n",
            "sohan\n",
            "20\n",
            "20\n"
          ]
        }
      ]
    },
    {
      "cell_type": "markdown",
      "source": [
        "Q5.What is method overriding in python? Write a python code to demonstrate method overriding.\n",
        "\n",
        "Any object-oriented programming language can allow a subclass or child class to offer a customized implementation of a method already supplied by one of its superclasses or parent classes. This capability is known as method overriding."
      ],
      "metadata": {
        "id": "QTp_lz2EdwCU"
      }
    }
  ]
}