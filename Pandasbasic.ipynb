{
  "nbformat": 4,
  "nbformat_minor": 0,
  "metadata": {
    "colab": {
      "provenance": [],
      "authorship_tag": "ABX9TyP/q+wnyFQFTrGRUgL9Ecrm",
      "include_colab_link": true
    },
    "kernelspec": {
      "name": "python3",
      "display_name": "Python 3"
    },
    "language_info": {
      "name": "python"
    }
  },
  "cells": [
    {
      "cell_type": "markdown",
      "metadata": {
        "id": "view-in-github",
        "colab_type": "text"
      },
      "source": [
        "<a href=\"https://colab.research.google.com/github/Sohann09/Assignment-data-science/blob/main/Pandasbasic.ipynb\" target=\"_parent\"><img src=\"https://colab.research.google.com/assets/colab-badge.svg\" alt=\"Open In Colab\"/></a>"
      ]
    },
    {
      "cell_type": "code",
      "execution_count": 1,
      "metadata": {
        "colab": {
          "base_uri": "https://localhost:8080/"
        },
        "id": "QIwjjKR14DBv",
        "outputId": "62095205-7d3d-43f0-ca26-e07c11c2c6a2"
      },
      "outputs": [
        {
          "output_type": "stream",
          "name": "stdout",
          "text": [
            "    0\n",
            "0   4\n",
            "1   8\n",
            "2  15\n",
            "3  16\n",
            "4  23\n",
            "5  42\n"
          ]
        }
      ],
      "source": [
        "#Q.1> Create a Pandas Series that contains the following data: 4, 8, 15, 16, 23, and 42. Then, print the series.\n",
        "import pandas as pd\n",
        "data = [4, 8, 15, 16, 23, 42]\n",
        "df = pd.DataFrame(data)\n",
        "print(df)"
      ]
    },
    {
      "cell_type": "code",
      "source": [
        "#Q.2> Create a variable of list type containing 10 elements in it, and apply pandas.Series function on the\n",
        "#     variable print it.\n",
        "data =  [\"sarfraj\" , \"abshar\" , \"abhishek\" , \"faizan\" , \"hammad\" , \"asif\" , \"arsalan\" , \"faiz\" , \"nesat\" ,\"nemat\"]\n",
        "df = pd.DataFrame(data)\n",
        "print(df)"
      ],
      "metadata": {
        "colab": {
          "base_uri": "https://localhost:8080/"
        },
        "id": "R9DeofTx4Gy8",
        "outputId": "de82812d-6bbd-4a0e-8da1-5c022077a051"
      },
      "execution_count": 2,
      "outputs": [
        {
          "output_type": "stream",
          "name": "stdout",
          "text": [
            "          0\n",
            "0   sarfraj\n",
            "1    abshar\n",
            "2  abhishek\n",
            "3    faizan\n",
            "4    hammad\n",
            "5      asif\n",
            "6   arsalan\n",
            "7      faiz\n",
            "8     nesat\n",
            "9     nemat\n"
          ]
        }
      ]
    },
    {
      "cell_type": "code",
      "source": [
        "data={\n",
        "    'Name' :['Alice','Bob','Claire'],\n",
        "    'Age':[25, 30, 27],\n",
        "\n",
        "        'Gender': ['Female', 'Male', 'Female']\n",
        "}\n",
        "df=pd.DataFrame(data)\n",
        "print(df)"
      ],
      "metadata": {
        "colab": {
          "base_uri": "https://localhost:8080/"
        },
        "id": "B_lkx1eg4HFR",
        "outputId": "2b5d9598-7a69-47a0-b2e0-3a1071514d17"
      },
      "execution_count": 4,
      "outputs": [
        {
          "output_type": "stream",
          "name": "stdout",
          "text": [
            "     Name  Age  Gender\n",
            "0   Alice   25  Female\n",
            "1     Bob   30    Male\n",
            "2  Claire   27  Female\n"
          ]
        }
      ]
    },
    {
      "cell_type": "code",
      "source": [
        "'''Q.4> What is ‘DataFrame’ in pandas and how is it different from pandas.series? Explain with an example.\n",
        "   Ans>  In Pandas, a DataFrame is a two-dimensional labeled data structure with columns of potentially\n",
        "         different data types. It is similar to a spreadsheet  or a  SQL table. In a DataFrame , data is\n",
        "         organized in rows and columns, where each column can be considered as a Pandas Series.\n",
        "\n",
        "         On the other hand, a Series in Pandas is a one-dimensional labeled array that can contain data of any\n",
        "         data type, including integers, strings, and floating-point numbers. It is similar to a column in a\n",
        "         spreadsheet or a SQL table.\n",
        "\n",
        "         The main difference between a DataFrame and a Series is that a DataFrame is a two-dimensional data\n",
        "         structure with rows and columns, while a Series is a one-dimensional data structure with only one column.'''"
      ],
      "metadata": {
        "id": "3ThFVomr4HR0"
      },
      "execution_count": null,
      "outputs": []
    },
    {
      "cell_type": "code",
      "source": [
        "#Q.5> What are some common functions you can use to manipulate data in a Pandas DataFrame? Can\n",
        "     #you give an example of when you might use one of these functions?\n",
        "     #some examples are given below :\n",
        "\n",
        "df.head()\n",
        "df.tail()\n",
        "df.describe()\n",
        "df.iloc[0:2]\n",
        "df.dtypes"
      ],
      "metadata": {
        "id": "QRnxh0Ck4HcY"
      },
      "execution_count": null,
      "outputs": []
    },
    {
      "cell_type": "markdown",
      "source": [
        "Q.6> Which of the following is mutable in nature Series, DataFrame, Panel?\n",
        "\n",
        "Ans> In Pandas, both Series and DataFrame are mutable in nature, while Panel is considered deprecated\n",
        "     and has been replaced by multi-dimensional arrays, such as numpy.ndarray or xarray.DataArray,\n",
        "     which are also mutable.\n",
        "\n",
        "     In a mutable object, the contents of the object can be modified after it is created. This means\n",
        "     that you can add, remove, or update elements in a Series or DataFrame after they are created."
      ],
      "metadata": {
        "id": "Clt5i0Jt5tlD"
      }
    },
    {
      "cell_type": "code",
      "source": [
        "#Q.7> Create a DataFrame using multiple Series. Explain with an example.\n",
        "# Create a Series for each column of data\n",
        "names = pd.Series(['Alice', 'Bob', 'Charlie', 'David', 'Emily'])\n",
        "ages = pd.Series([25, 30, 35, 40, 45])\n",
        "genders = pd.Series(['Female', 'Male', 'Male', 'Male', 'Female'])\n",
        "\n",
        "# Combine the Series into a DataFrame\n",
        "df = pd.DataFrame({'Name': names, 'Age': ages, 'Gender': genders})\n",
        "\n",
        "# Print the resulting DataFrame\n",
        "print(df)"
      ],
      "metadata": {
        "colab": {
          "base_uri": "https://localhost:8080/"
        },
        "id": "Ce9qoCqj5r1i",
        "outputId": "4e46ae9b-a61b-4e61-e889-a4d0f7830bd9"
      },
      "execution_count": 5,
      "outputs": [
        {
          "output_type": "stream",
          "name": "stdout",
          "text": [
            "      Name  Age  Gender\n",
            "0    Alice   25  Female\n",
            "1      Bob   30    Male\n",
            "2  Charlie   35    Male\n",
            "3    David   40    Male\n",
            "4    Emily   45  Female\n"
          ]
        }
      ]
    }
  ]
}